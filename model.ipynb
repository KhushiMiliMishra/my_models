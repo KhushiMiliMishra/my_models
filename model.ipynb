{
  "cells": [
    {
      "cell_type": "markdown",
      "metadata": {
        "id": "view-in-github",
        "colab_type": "text"
      },
      "source": [
        "<a href=\"https://colab.research.google.com/github/KhushiMiliMishra/my_models/blob/main/model.ipynb\" target=\"_parent\"><img src=\"https://colab.research.google.com/assets/colab-badge.svg\" alt=\"Open In Colab\"/></a>"
      ]
    },
    {
      "cell_type": "code",
      "execution_count": null,
      "metadata": {
        "colab": {
          "base_uri": "https://localhost:8080/"
        },
        "id": "AERIALr6gy6D",
        "outputId": "528132de-833a-415a-d36d-dacd72781acf"
      },
      "outputs": [
        {
          "name": "stdout",
          "output_type": "stream",
          "text": [
            "Drive already mounted at /content/drive; to attempt to forcibly remount, call drive.mount(\"/content/drive\", force_remount=True).\n"
          ]
        }
      ],
      "source": [
        "from google.colab import drive\n",
        "drive.mount('/content/drive')"
      ]
    },
    {
      "cell_type": "code",
      "execution_count": null,
      "metadata": {
        "id": "vsPhHCmwg0Xj"
      },
      "outputs": [],
      "source": [
        "import numpy as np\n",
        "import pandas as pd\n",
        "import scipy as sp\n",
        "import seaborn as sns\n",
        "import matplotlib.pyplot as plt\n",
        "from sklearn.linear_model import LinearRegression\n",
        "from sklearn.preprocessing import PolynomialFeatures\n",
        "from sklearn.preprocessing import StandardScaler\n",
        "from sklearn.pipeline import Pipeline\n",
        "from sklearn.metrics import mean_squared_error\n",
        "from sklearn.metrics import r2_score\n",
        "from sklearn.model_selection import train_test_split\n",
        "from sklearn.model_selection import cross_val_score\n",
        "from sklearn.model_selection import cross_val_predict\n",
        "from sklearn.linear_model import Ridge\n",
        "from sklearn.model_selection import GridSearchCV"
      ]
    },
    {
      "cell_type": "code",
      "execution_count": null,
      "metadata": {
        "colab": {
          "base_uri": "https://localhost:8080/",
          "height": 513
        },
        "id": "dT039BL8n0UC",
        "outputId": "2669a89b-bfef-4a5b-f2bd-21421bdec786"
      },
      "outputs": [
        {
          "output_type": "execute_result",
          "data": {
            "text/plain": [
              "     Unnamed: 0  symboling  normalized-losses         make aspiration  \\\n",
              "0             0          3              122.0  alfa-romero        std   \n",
              "1             1          1              122.0  alfa-romero        std   \n",
              "2             2          2              164.0         audi        std   \n",
              "3             3          2              164.0         audi        std   \n",
              "4             4          2              122.0         audi        std   \n",
              "..          ...        ...                ...          ...        ...   \n",
              "195         199         -1               95.0        volvo        std   \n",
              "196         200         -1               95.0        volvo      turbo   \n",
              "197         201         -1               95.0        volvo        std   \n",
              "198         202         -1               95.0        volvo      turbo   \n",
              "199         203         -1               95.0        volvo      turbo   \n",
              "\n",
              "    num-of-doors   body-style drive-wheels engine-location  wheel-base  ...  \\\n",
              "0            two  convertible          rwd           front        88.6  ...   \n",
              "1            two    hatchback          rwd           front        94.5  ...   \n",
              "2           four        sedan          fwd           front        99.8  ...   \n",
              "3           four        sedan          4wd           front        99.4  ...   \n",
              "4            two        sedan          fwd           front        99.8  ...   \n",
              "..           ...          ...          ...             ...         ...  ...   \n",
              "195         four        sedan          rwd           front       109.1  ...   \n",
              "196         four        sedan          rwd           front       109.1  ...   \n",
              "197         four        sedan          rwd           front       109.1  ...   \n",
              "198         four        sedan          rwd           front       109.1  ...   \n",
              "199         four        sedan          rwd           front       109.1  ...   \n",
              "\n",
              "     bore  stroke  compression-ratio  horsepower peak-rpm city-mpg  \\\n",
              "0    3.47    2.68                9.0       111.0   5000.0       21   \n",
              "1    2.68    3.47                9.0       154.0   5000.0       19   \n",
              "2    3.19    3.40               10.0       102.0   5500.0       24   \n",
              "3    3.19    3.40                8.0       115.0   5500.0       18   \n",
              "4    3.19    3.40                8.5       110.0   5500.0       19   \n",
              "..    ...     ...                ...         ...      ...      ...   \n",
              "195  3.78    3.15                9.5       114.0   5400.0       23   \n",
              "196  3.78    3.15                8.7       160.0   5300.0       19   \n",
              "197  3.58    2.87                8.8       134.0   5500.0       18   \n",
              "198  3.01    3.40               23.0       106.0   4800.0       26   \n",
              "199  3.78    3.15                9.5       114.0   5400.0       19   \n",
              "\n",
              "     highway-mpg    price  fuel-type-diesel  fuel-type-gas  \n",
              "0             27  16500.0                 0              1  \n",
              "1             26  16500.0                 0              1  \n",
              "2             30  13950.0                 0              1  \n",
              "3             22  17450.0                 0              1  \n",
              "4             25  15250.0                 0              1  \n",
              "..           ...      ...               ...            ...  \n",
              "195           28  16845.0                 0              1  \n",
              "196           25  19045.0                 0              1  \n",
              "197           23  21485.0                 0              1  \n",
              "198           27  22470.0                 1              0  \n",
              "199           25  22625.0                 0              1  \n",
              "\n",
              "[200 rows x 28 columns]"
            ],
            "text/html": [
              "\n",
              "  <div id=\"df-8b0cdca2-6d04-4565-8bde-d6d60871214b\" class=\"colab-df-container\">\n",
              "    <div>\n",
              "<style scoped>\n",
              "    .dataframe tbody tr th:only-of-type {\n",
              "        vertical-align: middle;\n",
              "    }\n",
              "\n",
              "    .dataframe tbody tr th {\n",
              "        vertical-align: top;\n",
              "    }\n",
              "\n",
              "    .dataframe thead th {\n",
              "        text-align: right;\n",
              "    }\n",
              "</style>\n",
              "<table border=\"1\" class=\"dataframe\">\n",
              "  <thead>\n",
              "    <tr style=\"text-align: right;\">\n",
              "      <th></th>\n",
              "      <th>Unnamed: 0</th>\n",
              "      <th>symboling</th>\n",
              "      <th>normalized-losses</th>\n",
              "      <th>make</th>\n",
              "      <th>aspiration</th>\n",
              "      <th>num-of-doors</th>\n",
              "      <th>body-style</th>\n",
              "      <th>drive-wheels</th>\n",
              "      <th>engine-location</th>\n",
              "      <th>wheel-base</th>\n",
              "      <th>...</th>\n",
              "      <th>bore</th>\n",
              "      <th>stroke</th>\n",
              "      <th>compression-ratio</th>\n",
              "      <th>horsepower</th>\n",
              "      <th>peak-rpm</th>\n",
              "      <th>city-mpg</th>\n",
              "      <th>highway-mpg</th>\n",
              "      <th>price</th>\n",
              "      <th>fuel-type-diesel</th>\n",
              "      <th>fuel-type-gas</th>\n",
              "    </tr>\n",
              "  </thead>\n",
              "  <tbody>\n",
              "    <tr>\n",
              "      <th>0</th>\n",
              "      <td>0</td>\n",
              "      <td>3</td>\n",
              "      <td>122.0</td>\n",
              "      <td>alfa-romero</td>\n",
              "      <td>std</td>\n",
              "      <td>two</td>\n",
              "      <td>convertible</td>\n",
              "      <td>rwd</td>\n",
              "      <td>front</td>\n",
              "      <td>88.6</td>\n",
              "      <td>...</td>\n",
              "      <td>3.47</td>\n",
              "      <td>2.68</td>\n",
              "      <td>9.0</td>\n",
              "      <td>111.0</td>\n",
              "      <td>5000.0</td>\n",
              "      <td>21</td>\n",
              "      <td>27</td>\n",
              "      <td>16500.0</td>\n",
              "      <td>0</td>\n",
              "      <td>1</td>\n",
              "    </tr>\n",
              "    <tr>\n",
              "      <th>1</th>\n",
              "      <td>1</td>\n",
              "      <td>1</td>\n",
              "      <td>122.0</td>\n",
              "      <td>alfa-romero</td>\n",
              "      <td>std</td>\n",
              "      <td>two</td>\n",
              "      <td>hatchback</td>\n",
              "      <td>rwd</td>\n",
              "      <td>front</td>\n",
              "      <td>94.5</td>\n",
              "      <td>...</td>\n",
              "      <td>2.68</td>\n",
              "      <td>3.47</td>\n",
              "      <td>9.0</td>\n",
              "      <td>154.0</td>\n",
              "      <td>5000.0</td>\n",
              "      <td>19</td>\n",
              "      <td>26</td>\n",
              "      <td>16500.0</td>\n",
              "      <td>0</td>\n",
              "      <td>1</td>\n",
              "    </tr>\n",
              "    <tr>\n",
              "      <th>2</th>\n",
              "      <td>2</td>\n",
              "      <td>2</td>\n",
              "      <td>164.0</td>\n",
              "      <td>audi</td>\n",
              "      <td>std</td>\n",
              "      <td>four</td>\n",
              "      <td>sedan</td>\n",
              "      <td>fwd</td>\n",
              "      <td>front</td>\n",
              "      <td>99.8</td>\n",
              "      <td>...</td>\n",
              "      <td>3.19</td>\n",
              "      <td>3.40</td>\n",
              "      <td>10.0</td>\n",
              "      <td>102.0</td>\n",
              "      <td>5500.0</td>\n",
              "      <td>24</td>\n",
              "      <td>30</td>\n",
              "      <td>13950.0</td>\n",
              "      <td>0</td>\n",
              "      <td>1</td>\n",
              "    </tr>\n",
              "    <tr>\n",
              "      <th>3</th>\n",
              "      <td>3</td>\n",
              "      <td>2</td>\n",
              "      <td>164.0</td>\n",
              "      <td>audi</td>\n",
              "      <td>std</td>\n",
              "      <td>four</td>\n",
              "      <td>sedan</td>\n",
              "      <td>4wd</td>\n",
              "      <td>front</td>\n",
              "      <td>99.4</td>\n",
              "      <td>...</td>\n",
              "      <td>3.19</td>\n",
              "      <td>3.40</td>\n",
              "      <td>8.0</td>\n",
              "      <td>115.0</td>\n",
              "      <td>5500.0</td>\n",
              "      <td>18</td>\n",
              "      <td>22</td>\n",
              "      <td>17450.0</td>\n",
              "      <td>0</td>\n",
              "      <td>1</td>\n",
              "    </tr>\n",
              "    <tr>\n",
              "      <th>4</th>\n",
              "      <td>4</td>\n",
              "      <td>2</td>\n",
              "      <td>122.0</td>\n",
              "      <td>audi</td>\n",
              "      <td>std</td>\n",
              "      <td>two</td>\n",
              "      <td>sedan</td>\n",
              "      <td>fwd</td>\n",
              "      <td>front</td>\n",
              "      <td>99.8</td>\n",
              "      <td>...</td>\n",
              "      <td>3.19</td>\n",
              "      <td>3.40</td>\n",
              "      <td>8.5</td>\n",
              "      <td>110.0</td>\n",
              "      <td>5500.0</td>\n",
              "      <td>19</td>\n",
              "      <td>25</td>\n",
              "      <td>15250.0</td>\n",
              "      <td>0</td>\n",
              "      <td>1</td>\n",
              "    </tr>\n",
              "    <tr>\n",
              "      <th>...</th>\n",
              "      <td>...</td>\n",
              "      <td>...</td>\n",
              "      <td>...</td>\n",
              "      <td>...</td>\n",
              "      <td>...</td>\n",
              "      <td>...</td>\n",
              "      <td>...</td>\n",
              "      <td>...</td>\n",
              "      <td>...</td>\n",
              "      <td>...</td>\n",
              "      <td>...</td>\n",
              "      <td>...</td>\n",
              "      <td>...</td>\n",
              "      <td>...</td>\n",
              "      <td>...</td>\n",
              "      <td>...</td>\n",
              "      <td>...</td>\n",
              "      <td>...</td>\n",
              "      <td>...</td>\n",
              "      <td>...</td>\n",
              "      <td>...</td>\n",
              "    </tr>\n",
              "    <tr>\n",
              "      <th>195</th>\n",
              "      <td>199</td>\n",
              "      <td>-1</td>\n",
              "      <td>95.0</td>\n",
              "      <td>volvo</td>\n",
              "      <td>std</td>\n",
              "      <td>four</td>\n",
              "      <td>sedan</td>\n",
              "      <td>rwd</td>\n",
              "      <td>front</td>\n",
              "      <td>109.1</td>\n",
              "      <td>...</td>\n",
              "      <td>3.78</td>\n",
              "      <td>3.15</td>\n",
              "      <td>9.5</td>\n",
              "      <td>114.0</td>\n",
              "      <td>5400.0</td>\n",
              "      <td>23</td>\n",
              "      <td>28</td>\n",
              "      <td>16845.0</td>\n",
              "      <td>0</td>\n",
              "      <td>1</td>\n",
              "    </tr>\n",
              "    <tr>\n",
              "      <th>196</th>\n",
              "      <td>200</td>\n",
              "      <td>-1</td>\n",
              "      <td>95.0</td>\n",
              "      <td>volvo</td>\n",
              "      <td>turbo</td>\n",
              "      <td>four</td>\n",
              "      <td>sedan</td>\n",
              "      <td>rwd</td>\n",
              "      <td>front</td>\n",
              "      <td>109.1</td>\n",
              "      <td>...</td>\n",
              "      <td>3.78</td>\n",
              "      <td>3.15</td>\n",
              "      <td>8.7</td>\n",
              "      <td>160.0</td>\n",
              "      <td>5300.0</td>\n",
              "      <td>19</td>\n",
              "      <td>25</td>\n",
              "      <td>19045.0</td>\n",
              "      <td>0</td>\n",
              "      <td>1</td>\n",
              "    </tr>\n",
              "    <tr>\n",
              "      <th>197</th>\n",
              "      <td>201</td>\n",
              "      <td>-1</td>\n",
              "      <td>95.0</td>\n",
              "      <td>volvo</td>\n",
              "      <td>std</td>\n",
              "      <td>four</td>\n",
              "      <td>sedan</td>\n",
              "      <td>rwd</td>\n",
              "      <td>front</td>\n",
              "      <td>109.1</td>\n",
              "      <td>...</td>\n",
              "      <td>3.58</td>\n",
              "      <td>2.87</td>\n",
              "      <td>8.8</td>\n",
              "      <td>134.0</td>\n",
              "      <td>5500.0</td>\n",
              "      <td>18</td>\n",
              "      <td>23</td>\n",
              "      <td>21485.0</td>\n",
              "      <td>0</td>\n",
              "      <td>1</td>\n",
              "    </tr>\n",
              "    <tr>\n",
              "      <th>198</th>\n",
              "      <td>202</td>\n",
              "      <td>-1</td>\n",
              "      <td>95.0</td>\n",
              "      <td>volvo</td>\n",
              "      <td>turbo</td>\n",
              "      <td>four</td>\n",
              "      <td>sedan</td>\n",
              "      <td>rwd</td>\n",
              "      <td>front</td>\n",
              "      <td>109.1</td>\n",
              "      <td>...</td>\n",
              "      <td>3.01</td>\n",
              "      <td>3.40</td>\n",
              "      <td>23.0</td>\n",
              "      <td>106.0</td>\n",
              "      <td>4800.0</td>\n",
              "      <td>26</td>\n",
              "      <td>27</td>\n",
              "      <td>22470.0</td>\n",
              "      <td>1</td>\n",
              "      <td>0</td>\n",
              "    </tr>\n",
              "    <tr>\n",
              "      <th>199</th>\n",
              "      <td>203</td>\n",
              "      <td>-1</td>\n",
              "      <td>95.0</td>\n",
              "      <td>volvo</td>\n",
              "      <td>turbo</td>\n",
              "      <td>four</td>\n",
              "      <td>sedan</td>\n",
              "      <td>rwd</td>\n",
              "      <td>front</td>\n",
              "      <td>109.1</td>\n",
              "      <td>...</td>\n",
              "      <td>3.78</td>\n",
              "      <td>3.15</td>\n",
              "      <td>9.5</td>\n",
              "      <td>114.0</td>\n",
              "      <td>5400.0</td>\n",
              "      <td>19</td>\n",
              "      <td>25</td>\n",
              "      <td>22625.0</td>\n",
              "      <td>0</td>\n",
              "      <td>1</td>\n",
              "    </tr>\n",
              "  </tbody>\n",
              "</table>\n",
              "<p>200 rows × 28 columns</p>\n",
              "</div>\n",
              "    <div class=\"colab-df-buttons\">\n",
              "\n",
              "  <div class=\"colab-df-container\">\n",
              "    <button class=\"colab-df-convert\" onclick=\"convertToInteractive('df-8b0cdca2-6d04-4565-8bde-d6d60871214b')\"\n",
              "            title=\"Convert this dataframe to an interactive table.\"\n",
              "            style=\"display:none;\">\n",
              "\n",
              "  <svg xmlns=\"http://www.w3.org/2000/svg\" height=\"24px\" viewBox=\"0 -960 960 960\">\n",
              "    <path d=\"M120-120v-720h720v720H120Zm60-500h600v-160H180v160Zm220 220h160v-160H400v160Zm0 220h160v-160H400v160ZM180-400h160v-160H180v160Zm440 0h160v-160H620v160ZM180-180h160v-160H180v160Zm440 0h160v-160H620v160Z\"/>\n",
              "  </svg>\n",
              "    </button>\n",
              "\n",
              "  <style>\n",
              "    .colab-df-container {\n",
              "      display:flex;\n",
              "      gap: 12px;\n",
              "    }\n",
              "\n",
              "    .colab-df-convert {\n",
              "      background-color: #E8F0FE;\n",
              "      border: none;\n",
              "      border-radius: 50%;\n",
              "      cursor: pointer;\n",
              "      display: none;\n",
              "      fill: #1967D2;\n",
              "      height: 32px;\n",
              "      padding: 0 0 0 0;\n",
              "      width: 32px;\n",
              "    }\n",
              "\n",
              "    .colab-df-convert:hover {\n",
              "      background-color: #E2EBFA;\n",
              "      box-shadow: 0px 1px 2px rgba(60, 64, 67, 0.3), 0px 1px 3px 1px rgba(60, 64, 67, 0.15);\n",
              "      fill: #174EA6;\n",
              "    }\n",
              "\n",
              "    .colab-df-buttons div {\n",
              "      margin-bottom: 4px;\n",
              "    }\n",
              "\n",
              "    [theme=dark] .colab-df-convert {\n",
              "      background-color: #3B4455;\n",
              "      fill: #D2E3FC;\n",
              "    }\n",
              "\n",
              "    [theme=dark] .colab-df-convert:hover {\n",
              "      background-color: #434B5C;\n",
              "      box-shadow: 0px 1px 3px 1px rgba(0, 0, 0, 0.15);\n",
              "      filter: drop-shadow(0px 1px 2px rgba(0, 0, 0, 0.3));\n",
              "      fill: #FFFFFF;\n",
              "    }\n",
              "  </style>\n",
              "\n",
              "    <script>\n",
              "      const buttonEl =\n",
              "        document.querySelector('#df-8b0cdca2-6d04-4565-8bde-d6d60871214b button.colab-df-convert');\n",
              "      buttonEl.style.display =\n",
              "        google.colab.kernel.accessAllowed ? 'block' : 'none';\n",
              "\n",
              "      async function convertToInteractive(key) {\n",
              "        const element = document.querySelector('#df-8b0cdca2-6d04-4565-8bde-d6d60871214b');\n",
              "        const dataTable =\n",
              "          await google.colab.kernel.invokeFunction('convertToInteractive',\n",
              "                                                    [key], {});\n",
              "        if (!dataTable) return;\n",
              "\n",
              "        const docLinkHtml = 'Like what you see? Visit the ' +\n",
              "          '<a target=\"_blank\" href=https://colab.research.google.com/notebooks/data_table.ipynb>data table notebook</a>'\n",
              "          + ' to learn more about interactive tables.';\n",
              "        element.innerHTML = '';\n",
              "        dataTable['output_type'] = 'display_data';\n",
              "        await google.colab.output.renderOutput(dataTable, element);\n",
              "        const docLink = document.createElement('div');\n",
              "        docLink.innerHTML = docLinkHtml;\n",
              "        element.appendChild(docLink);\n",
              "      }\n",
              "    </script>\n",
              "  </div>\n",
              "\n",
              "\n",
              "<div id=\"df-d267df64-dcf1-4608-b839-9771a24ccbd6\">\n",
              "  <button class=\"colab-df-quickchart\" onclick=\"quickchart('df-d267df64-dcf1-4608-b839-9771a24ccbd6')\"\n",
              "            title=\"Suggest charts.\"\n",
              "            style=\"display:none;\">\n",
              "\n",
              "<svg xmlns=\"http://www.w3.org/2000/svg\" height=\"24px\"viewBox=\"0 0 24 24\"\n",
              "     width=\"24px\">\n",
              "    <g>\n",
              "        <path d=\"M19 3H5c-1.1 0-2 .9-2 2v14c0 1.1.9 2 2 2h14c1.1 0 2-.9 2-2V5c0-1.1-.9-2-2-2zM9 17H7v-7h2v7zm4 0h-2V7h2v10zm4 0h-2v-4h2v4z\"/>\n",
              "    </g>\n",
              "</svg>\n",
              "  </button>\n",
              "\n",
              "<style>\n",
              "  .colab-df-quickchart {\n",
              "    background-color: #E8F0FE;\n",
              "    border: none;\n",
              "    border-radius: 50%;\n",
              "    cursor: pointer;\n",
              "    display: none;\n",
              "    fill: #1967D2;\n",
              "    height: 32px;\n",
              "    padding: 0 0 0 0;\n",
              "    width: 32px;\n",
              "  }\n",
              "\n",
              "  .colab-df-quickchart:hover {\n",
              "    background-color: #E2EBFA;\n",
              "    box-shadow: 0px 1px 2px rgba(60, 64, 67, 0.3), 0px 1px 3px 1px rgba(60, 64, 67, 0.15);\n",
              "    fill: #174EA6;\n",
              "  }\n",
              "\n",
              "  [theme=dark] .colab-df-quickchart {\n",
              "    background-color: #3B4455;\n",
              "    fill: #D2E3FC;\n",
              "  }\n",
              "\n",
              "  [theme=dark] .colab-df-quickchart:hover {\n",
              "    background-color: #434B5C;\n",
              "    box-shadow: 0px 1px 3px 1px rgba(0, 0, 0, 0.15);\n",
              "    filter: drop-shadow(0px 1px 2px rgba(0, 0, 0, 0.3));\n",
              "    fill: #FFFFFF;\n",
              "  }\n",
              "</style>\n",
              "\n",
              "  <script>\n",
              "    async function quickchart(key) {\n",
              "      const charts = await google.colab.kernel.invokeFunction(\n",
              "          'suggestCharts', [key], {});\n",
              "    }\n",
              "    (() => {\n",
              "      let quickchartButtonEl =\n",
              "        document.querySelector('#df-d267df64-dcf1-4608-b839-9771a24ccbd6 button');\n",
              "      quickchartButtonEl.style.display =\n",
              "        google.colab.kernel.accessAllowed ? 'block' : 'none';\n",
              "    })();\n",
              "  </script>\n",
              "</div>\n",
              "    </div>\n",
              "  </div>\n"
            ]
          },
          "metadata": {},
          "execution_count": 4
        }
      ],
      "source": [
        "df=pd.read_csv(\"/content/drive/MyDrive/Google collab /autoedited.csv\")\n",
        "df"
      ]
    },
    {
      "cell_type": "code",
      "execution_count": null,
      "metadata": {
        "colab": {
          "base_uri": "https://localhost:8080/",
          "height": 75
        },
        "id": "wHeduEsFjaoE",
        "outputId": "04d73431-dcb6-41d7-ed83-1cc5c6213ddb"
      },
      "outputs": [
        {
          "output_type": "execute_result",
          "data": {
            "text/plain": [
              "LinearRegression()"
            ],
            "text/html": [
              "<style>#sk-container-id-1 {color: black;background-color: white;}#sk-container-id-1 pre{padding: 0;}#sk-container-id-1 div.sk-toggleable {background-color: white;}#sk-container-id-1 label.sk-toggleable__label {cursor: pointer;display: block;width: 100%;margin-bottom: 0;padding: 0.3em;box-sizing: border-box;text-align: center;}#sk-container-id-1 label.sk-toggleable__label-arrow:before {content: \"▸\";float: left;margin-right: 0.25em;color: #696969;}#sk-container-id-1 label.sk-toggleable__label-arrow:hover:before {color: black;}#sk-container-id-1 div.sk-estimator:hover label.sk-toggleable__label-arrow:before {color: black;}#sk-container-id-1 div.sk-toggleable__content {max-height: 0;max-width: 0;overflow: hidden;text-align: left;background-color: #f0f8ff;}#sk-container-id-1 div.sk-toggleable__content pre {margin: 0.2em;color: black;border-radius: 0.25em;background-color: #f0f8ff;}#sk-container-id-1 input.sk-toggleable__control:checked~div.sk-toggleable__content {max-height: 200px;max-width: 100%;overflow: auto;}#sk-container-id-1 input.sk-toggleable__control:checked~label.sk-toggleable__label-arrow:before {content: \"▾\";}#sk-container-id-1 div.sk-estimator input.sk-toggleable__control:checked~label.sk-toggleable__label {background-color: #d4ebff;}#sk-container-id-1 div.sk-label input.sk-toggleable__control:checked~label.sk-toggleable__label {background-color: #d4ebff;}#sk-container-id-1 input.sk-hidden--visually {border: 0;clip: rect(1px 1px 1px 1px);clip: rect(1px, 1px, 1px, 1px);height: 1px;margin: -1px;overflow: hidden;padding: 0;position: absolute;width: 1px;}#sk-container-id-1 div.sk-estimator {font-family: monospace;background-color: #f0f8ff;border: 1px dotted black;border-radius: 0.25em;box-sizing: border-box;margin-bottom: 0.5em;}#sk-container-id-1 div.sk-estimator:hover {background-color: #d4ebff;}#sk-container-id-1 div.sk-parallel-item::after {content: \"\";width: 100%;border-bottom: 1px solid gray;flex-grow: 1;}#sk-container-id-1 div.sk-label:hover label.sk-toggleable__label {background-color: #d4ebff;}#sk-container-id-1 div.sk-serial::before {content: \"\";position: absolute;border-left: 1px solid gray;box-sizing: border-box;top: 0;bottom: 0;left: 50%;z-index: 0;}#sk-container-id-1 div.sk-serial {display: flex;flex-direction: column;align-items: center;background-color: white;padding-right: 0.2em;padding-left: 0.2em;position: relative;}#sk-container-id-1 div.sk-item {position: relative;z-index: 1;}#sk-container-id-1 div.sk-parallel {display: flex;align-items: stretch;justify-content: center;background-color: white;position: relative;}#sk-container-id-1 div.sk-item::before, #sk-container-id-1 div.sk-parallel-item::before {content: \"\";position: absolute;border-left: 1px solid gray;box-sizing: border-box;top: 0;bottom: 0;left: 50%;z-index: -1;}#sk-container-id-1 div.sk-parallel-item {display: flex;flex-direction: column;z-index: 1;position: relative;background-color: white;}#sk-container-id-1 div.sk-parallel-item:first-child::after {align-self: flex-end;width: 50%;}#sk-container-id-1 div.sk-parallel-item:last-child::after {align-self: flex-start;width: 50%;}#sk-container-id-1 div.sk-parallel-item:only-child::after {width: 0;}#sk-container-id-1 div.sk-dashed-wrapped {border: 1px dashed gray;margin: 0 0.4em 0.5em 0.4em;box-sizing: border-box;padding-bottom: 0.4em;background-color: white;}#sk-container-id-1 div.sk-label label {font-family: monospace;font-weight: bold;display: inline-block;line-height: 1.2em;}#sk-container-id-1 div.sk-label-container {text-align: center;}#sk-container-id-1 div.sk-container {/* jupyter's `normalize.less` sets `[hidden] { display: none; }` but bootstrap.min.css set `[hidden] { display: none !important; }` so we also need the `!important` here to be able to override the default hidden behavior on the sphinx rendered scikit-learn.org. See: https://github.com/scikit-learn/scikit-learn/issues/21755 */display: inline-block !important;position: relative;}#sk-container-id-1 div.sk-text-repr-fallback {display: none;}</style><div id=\"sk-container-id-1\" class=\"sk-top-container\"><div class=\"sk-text-repr-fallback\"><pre>LinearRegression()</pre><b>In a Jupyter environment, please rerun this cell to show the HTML representation or trust the notebook. <br />On GitHub, the HTML representation is unable to render, please try loading this page with nbviewer.org.</b></div><div class=\"sk-container\" hidden><div class=\"sk-item\"><div class=\"sk-estimator sk-toggleable\"><input class=\"sk-toggleable__control sk-hidden--visually\" id=\"sk-estimator-id-1\" type=\"checkbox\" checked><label for=\"sk-estimator-id-1\" class=\"sk-toggleable__label sk-toggleable__label-arrow\">LinearRegression</label><div class=\"sk-toggleable__content\"><pre>LinearRegression()</pre></div></div></div></div></div>"
            ]
          },
          "metadata": {},
          "execution_count": 5
        }
      ],
      "source": [
        "lm=LinearRegression()\n",
        "x=df[['highway-mpg']]\n",
        "y=df['price']\n",
        "lm.fit(x,y)"
      ]
    },
    {
      "cell_type": "code",
      "execution_count": null,
      "metadata": {
        "colab": {
          "base_uri": "https://localhost:8080/"
        },
        "id": "z4O21OeFrnhM",
        "outputId": "2688b889-1b83-4bd7-d549-5850c22233be"
      },
      "outputs": [
        {
          "output_type": "execute_result",
          "data": {
            "text/plain": [
              "array([16254.26934067, 17077.0977727 , 13785.78404458, 20368.41150083,\n",
              "       17899.92620473, 17899.92620473, 17899.92620473, 22014.06836489,\n",
              "       14608.61247661, 14608.61247661])"
            ]
          },
          "metadata": {},
          "execution_count": 6
        }
      ],
      "source": [
        "yhat=lm.predict(x)\n",
        "yhat[0:10]"
      ]
    },
    {
      "cell_type": "code",
      "execution_count": null,
      "metadata": {
        "id": "qf9F0vker2O4"
      },
      "outputs": [],
      "source": [
        "v0=(lm.intercept_)\n",
        "v1=(lm.coef_)"
      ]
    },
    {
      "cell_type": "code",
      "execution_count": null,
      "metadata": {
        "colab": {
          "base_uri": "https://localhost:8080/",
          "height": 466
        },
        "id": "TRtfnEwvu_nz",
        "outputId": "6b717c0c-1b65-4795-e8a8-b3995c4cac87"
      },
      "outputs": [
        {
          "output_type": "execute_result",
          "data": {
            "text/plain": [
              "(0.0, 48187.51482339176)"
            ]
          },
          "metadata": {},
          "execution_count": 8
        },
        {
          "output_type": "display_data",
          "data": {
            "text/plain": [
              "<Figure size 640x480 with 1 Axes>"
            ],
            "image/png": "[encoded data removed]"
          },
          "metadata": {}
        }
      ],
      "source": [
        "sns.regplot(x='highway-mpg',y='price',data=df)\n",
        "plt.ylim(0,)"
      ]
    },
    {
      "cell_type": "code",
      "execution_count": null,
      "metadata": {
        "colab": {
          "base_uri": "https://localhost:8080/"
        },
        "id": "m6s1RGO9sggE",
        "outputId": "4c6fc917-2152-4d2d-9c49-9b3dd9b6259f"
      },
      "outputs": [
        {
          "output_type": "execute_result",
          "data": {
            "text/plain": [
              "array([5557.49972428])"
            ]
          },
          "metadata": {},
          "execution_count": 9
        }
      ],
      "source": [
        "a=40\n",
        "price=v0+(v1*a)\n",
        "price"
      ]
    },
    {
      "cell_type": "code",
      "execution_count": null,
      "metadata": {
        "colab": {
          "base_uri": "https://localhost:8080/"
        },
        "id": "wXjcLvI63Ii_",
        "outputId": "29c619dc-a528-49bb-cbf1-c21924c066e9"
      },
      "outputs": [
        {
          "output_type": "stream",
          "name": "stdout",
          "text": [
            "     horsepower  curb-weight  engine-size  highway-mpg\n",
            "0         111.0         2548          130           27\n",
            "1         154.0         2823          152           26\n",
            "2         102.0         2337          109           30\n",
            "3         115.0         2824          136           22\n",
            "4         110.0         2507          136           25\n",
            "..          ...          ...          ...          ...\n",
            "195       114.0         2952          141           28\n",
            "196       160.0         3049          141           25\n",
            "197       134.0         3012          173           23\n",
            "198       106.0         3217          145           27\n",
            "199       114.0         3062          141           25\n",
            "\n",
            "[200 rows x 4 columns]\n",
            "-15789.796179111187 [53.48121742  4.70456837 81.54599468 35.78789189]\n"
          ]
        },
        {
          "output_type": "execute_result",
          "data": {
            "text/plain": [
              "array([13701.11153823, 19052.78417862, 10622.01444379, 15523.83378535,\n",
              "       13872.44320215, 15457.88274125, 15975.38526143, 17614.15537525,\n",
              "       10724.06430499, 10724.06430499])"
            ]
          },
          "metadata": {},
          "execution_count": 10
        }
      ],
      "source": [
        "mlr=LinearRegression()\n",
        "z=df[['horsepower','curb-weight','engine-size','highway-mpg']]\n",
        "print(z)\n",
        "mlr.fit(z, df['price'])\n",
        "b0=mlr.intercept_\n",
        "b=mlr.coef_\n",
        "print(b0,b)\n",
        "Yhat1=mlr.predict(z)\n",
        "Yhat1[0:10]\n"
      ]
    },
    {
      "cell_type": "code",
      "execution_count": null,
      "metadata": {
        "colab": {
          "base_uri": "https://localhost:8080/"
        },
        "id": "WVyGyRs33Il0",
        "outputId": "ec1240eb-d88b-4af4-d24d-5190895d1ca7"
      },
      "outputs": [
        {
          "output_type": "execute_result",
          "data": {
            "text/plain": [
              "13701.111538232339"
            ]
          },
          "metadata": {},
          "execution_count": 11
        }
      ],
      "source": [
        "x1=111\n",
        "x2=2548\n",
        "x3=130\n",
        "x4=27\n",
        "price=b0+(x1*b[0]+x2*b[1]+x3*b[2]+x4*b[3])\n",
        "price"
      ]
    },
    {
      "cell_type": "code",
      "execution_count": null,
      "metadata": {
        "colab": {
          "base_uri": "https://localhost:8080/"
        },
        "id": "CHW4haeY3IpH",
        "outputId": "662c7c5a-2e8f-4e4f-b507-afe3c7141f15"
      },
      "outputs": [
        {
          "output_type": "stream",
          "name": "stdout",
          "text": [
            "Khushi was here\n",
            "Khushi you son of a gun\n",
            "First Model was made By Dhiya\n"
          ]
        }
      ],
      "source": [
        "print(\"Khushi was here\")\n",
        "print(\"Khushi you son of a gun\")\n",
        "print(\"First Model was made By Dhiya\")"
      ]
    },
    {
      "cell_type": "code",
      "execution_count": null,
      "metadata": {
        "colab": {
          "base_uri": "https://localhost:8080/",
          "height": 466
        },
        "id": "3olZNtgkZYDD",
        "outputId": "9d95ca32-9146-4fb8-824b-c1a6397e4f4b"
      },
      "outputs": [
        {
          "output_type": "execute_result",
          "data": {
            "text/plain": [
              "<Axes: xlabel='highway-mpg', ylabel='price'>"
            ]
          },
          "metadata": {},
          "execution_count": 13
        },
        {
          "output_type": "display_data",
          "data": {
            "text/plain": [
              "<Figure size 640x480 with 1 Axes>"
            ],
            "image/png": "[encoded data removed]"
          },
          "metadata": {}
        }
      ],
      "source": [
        "sns.residplot(x=df['highway-mpg'], y=df['price'])"
      ]
    },
    {
      "cell_type": "markdown",
      "metadata": {
        "id": "dGDGKdg_c9Mv"
      },
      "source": [
        "**MODEL** **ACCURACY**"
      ]
    },
    {
      "cell_type": "code",
      "execution_count": null,
      "metadata": {
        "colab": {
          "base_uri": "https://localhost:8080/",
          "height": 864
        },
        "id": "svtaXnGhZq5I",
        "outputId": "a4b759a2-94b1-4588-fc62-819a7ff8ab9c"
      },
      "outputs": [
        {
          "output_type": "stream",
          "name": "stderr",
          "text": [
            "<ipython-input-14-1de86bd7043e>:1: UserWarning: \n",
            "\n",
            "`distplot` is a deprecated function and will be removed in seaborn v0.14.0.\n",
            "\n",
            "Please adapt your code to use either `displot` (a figure-level function with\n",
            "similar flexibility) or `kdeplot` (an axes-level function for kernel density plots).\n",
            "\n",
            "For a guide to updating your code to use the new functions, please see\n",
            "https://gist.github.com/mwaskom/de44147ed2974457ad6372750bbe5751\n",
            "\n",
            "  sns.distplot(df['price'],hist=False,color='r',label='ActualValue')\n",
            "<ipython-input-14-1de86bd7043e>:2: UserWarning: \n",
            "\n",
            "`distplot` is a deprecated function and will be removed in seaborn v0.14.0.\n",
            "\n",
            "Please adapt your code to use either `displot` (a figure-level function with\n",
            "similar flexibility) or `kdeplot` (an axes-level function for kernel density plots).\n",
            "\n",
            "For a guide to updating your code to use the new functions, please see\n",
            "https://gist.github.com/mwaskom/de44147ed2974457ad6372750bbe5751\n",
            "\n",
            "  sns.distplot(Yhat1,hist=False,color='b',label=\"PredictedValue\")\n"
          ]
        },
        {
          "output_type": "execute_result",
          "data": {
            "text/plain": [
              "<Axes: xlabel='price', ylabel='Density'>"
            ]
          },
          "metadata": {},
          "execution_count": 14
        },
        {
          "output_type": "display_data",
          "data": {
            "text/plain": [
              "<Figure size 640x480 with 1 Axes>"
            ],
            "image/png": "[encoded data removed]"
          },
          "metadata": {}
        }
      ],
      "source": [
        "sns.distplot(df['price'],hist=False,color='r',label='ActualValue')\n",
        "sns.distplot(Yhat1,hist=False,color='b',label=\"PredictedValue\")"
      ]
    },
    {
      "cell_type": "code",
      "execution_count": null,
      "metadata": {
        "colab": {
          "base_uri": "https://localhost:8080/"
        },
        "id": "QFyh3vFJkyQX",
        "outputId": "791a575d-f2bf-4f60-f0dc-5c811cdab02d"
      },
      "outputs": [
        {
          "output_type": "execute_result",
          "data": {
            "text/plain": [
              "poly1d([-1.55173297e+00,  2.04232144e+02, -8.94817574e+03,  1.37751367e+05])"
            ]
          },
          "metadata": {},
          "execution_count": 15
        }
      ],
      "source": [
        "x = df['highway-mpg']\n",
        "y = df['price']\n",
        "f=np.polyfit(x,y,3)\n",
        "p=np.poly1d(f)\n",
        "p"
      ]
    },
    {
      "cell_type": "code",
      "execution_count": null,
      "metadata": {
        "colab": {
          "base_uri": "https://localhost:8080/"
        },
        "id": "RBcR24hwni9e",
        "outputId": "5ecf1f4b-3aa6-401c-8ef5-beaa08699cf6"
      },
      "outputs": [
        {
          "output_type": "stream",
          "name": "stdout",
          "text": [
            "[[  111.  2548.   130. ... 16900.  3510.   729.]\n",
            " [  154.  2823.   152. ... 23104.  3952.   676.]\n",
            " [  102.  2337.   109. ... 11881.  3270.   900.]\n",
            " ...\n",
            " [  134.  3012.   173. ... 29929.  3979.   529.]\n",
            " [  106.  3217.   145. ... 21025.  3915.   729.]\n",
            " [  114.  3062.   141. ... 19881.  3525.   625.]]\n",
            "(200, 4)\n",
            "(200, 14)\n"
          ]
        }
      ],
      "source": [
        "z=df[['horsepower','curb-weight','engine-size','highway-mpg']]\n",
        "pr=PolynomialFeatures(degree=2,include_bias=False)\n",
        "zpr=pr.fit_transform(z)\n",
        "print(zpr)\n",
        "print(z.shape)\n",
        "print(zpr.shape)"
      ]
    },
    {
      "cell_type": "code",
      "execution_count": null,
      "metadata": {
        "id": "Wv5GOR6acbG6"
      },
      "outputs": [],
      "source": [
        "scale=StandardScaler()\n",
        "scale.fit(df[['horsepower','highway-mpg']])\n",
        "x_scale=scale.transform(df[['horsepower','highway-mpg']])"
      ]
    },
    {
      "cell_type": "code",
      "execution_count": null,
      "metadata": {
        "colab": {
          "base_uri": "https://localhost:8080/"
        },
        "id": "VpQunrFrj47a",
        "outputId": "908edae7-59c8-4aca-fa7d-dc6c0d384d11"
      },
      "outputs": [
        {
          "output_type": "execute_result",
          "data": {
            "text/plain": [
              "array([13094.72195731, 18221.98657303, 10385.48674174, 16125.79924151])"
            ]
          },
          "metadata": {},
          "execution_count": 19
        }
      ],
      "source": [
        "input=[('scale',StandardScaler()),('polynomial',PolynomialFeatures(degree=2)),('model',LinearRegression())]\n",
        "pipe=Pipeline(input)\n",
        "z.astype(float)\n",
        "pipe.fit(z,y)\n",
        "yhat2=pipe.predict(z)\n",
        "yhat2[:4]"
      ]
    },
    {
      "cell_type": "code",
      "execution_count": null,
      "metadata": {
        "id": "vpPskUdhpVR3",
        "colab": {
          "base_uri": "https://localhost:8080/"
        },
        "outputId": "6a087a41-0b5f-42a7-fafb-9fbfd4f05f0d"
      },
      "outputs": [
        {
          "output_type": "execute_result",
          "data": {
            "text/plain": [
              "9704076.438802805"
            ]
          },
          "metadata": {},
          "execution_count": 20
        }
      ],
      "source": [
        "m_s_e=mean_squared_error(df['price'],yhat2)\n",
        "m_s_e"
      ]
    },
    {
      "cell_type": "code",
      "execution_count": null,
      "metadata": {
        "id": "X8aZWYitqwpB",
        "outputId": "88d59500-50bb-4abd-c737-699ce4adfd58",
        "colab": {
          "base_uri": "https://localhost:8080/"
        }
      },
      "outputs": [
        {
          "output_type": "execute_result",
          "data": {
            "text/plain": [
              "0.49718675257265266"
            ]
          },
          "metadata": {},
          "execution_count": 21
        }
      ],
      "source": [
        "lmr=LinearRegression()\n",
        "x=df[['highway-mpg']]\n",
        "y=df['price']\n",
        "lmr.fit(x,y)\n",
        "lmr.score(x,y)"
      ]
    },
    {
      "cell_type": "code",
      "execution_count": null,
      "metadata": {
        "id": "nzbiWUt4rKyj",
        "colab": {
          "base_uri": "https://localhost:8080/"
        },
        "outputId": "584cce11-21da-431d-ff56-4d4e00d9fd5d"
      },
      "outputs": [
        {
          "output_type": "stream",
          "name": "stdout",
          "text": [
            "     horsepower  curb-weight  engine-size  highway-mpg\n",
            "0         111.0         2548          130           27\n",
            "1         154.0         2823          152           26\n",
            "2         102.0         2337          109           30\n",
            "3         115.0         2824          136           22\n",
            "4         110.0         2507          136           25\n",
            "..          ...          ...          ...          ...\n",
            "195       114.0         2952          141           28\n",
            "196       160.0         3049          141           25\n",
            "197       134.0         3012          173           23\n",
            "198       106.0         3217          145           27\n",
            "199       114.0         3062          141           25\n",
            "\n",
            "[200 rows x 4 columns]\n"
          ]
        },
        {
          "output_type": "execute_result",
          "data": {
            "text/plain": [
              "0.8093605688819752"
            ]
          },
          "metadata": {},
          "execution_count": 22
        }
      ],
      "source": [
        "lmr2=LinearRegression()\n",
        "z=df[['horsepower','curb-weight','engine-size','highway-mpg']]\n",
        "print(z)\n",
        "lmr2.fit(z, df['price'])\n",
        "lmr2.score(z, df['price'])"
      ]
    },
    {
      "cell_type": "code",
      "execution_count": null,
      "metadata": {
        "colab": {
          "base_uri": "https://localhost:8080/"
        },
        "id": "ysLbHfcUuHWJ",
        "outputId": "f657b04b-a380-4dfc-93f5-cd3757834852"
      },
      "outputs": [
        {
          "output_type": "stream",
          "name": "stdout",
          "text": [
            "0.6742706265540408\n"
          ]
        },
        {
          "output_type": "execute_result",
          "data": {
            "text/plain": [
              "20571584.18879442"
            ]
          },
          "metadata": {},
          "execution_count": 23
        }
      ],
      "source": [
        "z=df[['horsepower','curb-weight','engine-size','highway-mpg']]\n",
        "pr=PolynomialFeatures(degree=2,include_bias=False)\n",
        "zpr=pr.fit_transform(z)\n",
        "\n",
        "r_s= r2_score(y, p(x))\n",
        "print(r_s)\n",
        "mean_squared_error(df['price'], p(x))\n"
      ]
    },
    {
      "cell_type": "code",
      "execution_count": null,
      "metadata": {
        "id": "UZIZnXP2uSva"
      },
      "outputs": [],
      "source": [
        "new_input=np.arange(1, 100, 1).reshape(-1, 1)"
      ]
    },
    {
      "cell_type": "code",
      "execution_count": null,
      "metadata": {
        "id": "OsHWjWymvK0E",
        "colab": {
          "base_uri": "https://localhost:8080/",
          "height": 485
        },
        "outputId": "23405ce8-8c83-49a2-ac9f-d40d2bd9acc0"
      },
      "outputs": [
        {
          "output_type": "stream",
          "name": "stderr",
          "text": [
            "/usr/local/lib/python3.10/dist-packages/sklearn/base.py:439: UserWarning: X does not have valid feature names, but LinearRegression was fitted with feature names\n",
            "  warnings.warn(\n"
          ]
        },
        {
          "output_type": "display_data",
          "data": {
            "text/plain": [
              "<Figure size 640x480 with 1 Axes>"
            ],
            "image/png": "[encoded data removed]"
          },
          "metadata": {}
        }
      ],
      "source": [
        "yhatp=lmr.predict(new_input)\n",
        "plt.plot(new_input, yhatp)\n",
        "plt.show()"
      ]
    },
    {
      "cell_type": "code",
      "execution_count": null,
      "metadata": {
        "id": "8vYJ2YZcvX68"
      },
      "outputs": [],
      "source": [
        "y_data=df['price']\n",
        "x_data=df.drop('price',axis=1)\n",
        "x_train,x_test,y_train,y_test=train_test_split(x_data,y_data,test_size=0.10,random_state=1)\n"
      ]
    },
    {
      "cell_type": "code",
      "source": [
        "slr1=LinearRegression()\n",
        "slr1.fit(x_train[['horsepower']],y_train)\n",
        "yhatslr=slr1.predict(x_test[['horsepower']])\n",
        "yhatslr"
      ],
      "metadata": {
        "colab": {
          "base_uri": "https://localhost:8080/"
        },
        "id": "vEMm75xqez6O",
        "outputId": "74a0b310-b7bd-4a18-d862-70eaf9546404"
      },
      "execution_count": null,
      "outputs": [
        {
          "output_type": "execute_result",
          "data": {
            "text/plain": [
              "array([ 7222.215697  , 11080.72160008, 11606.88149596, 21603.91951757,\n",
              "        4065.25632176,  6871.44243309, 14237.68097533,  5819.12264134,\n",
              "       16166.93392687,  7222.215697  , 15991.54729491, 13224.43246297,\n",
              "        9853.01517637,  4766.80284959, 20376.21309386, 19499.27993407,\n",
              "        8274.53548875, 14237.68097533, 10028.40180833,  6871.44243309,\n",
              "       12483.81465575,  5819.12264134, 40896.44903295,  7222.215697  ,\n",
              "        9677.62854442, 31250.18427526,  4065.25632176, 10729.94833617,\n",
              "       31250.18427526, 25813.19868456,  3363.70979393,  9677.62854442,\n",
              "        5819.12264134, 11957.65475987,  6871.44243309, 14939.22750316,\n",
              "       14237.68097533, 14237.68097533, 15290.00076708, 11606.88149596,\n",
              "        7748.37559288, 16517.70719078, 10379.17507225, 19850.05319799,\n",
              "       11080.72160008, 16517.70719078, 12659.2012877 , 12834.58791966,\n",
              "        6871.44243309,  9326.8552805 , 25637.8120526 , 31250.18427526,\n",
              "       10729.94833617, 21603.91951757,  5819.12264134,  6871.44243309,\n",
              "        5468.34937742, 14588.45423924, 12483.81465575,  9677.62854442])"
            ]
          },
          "metadata": {},
          "execution_count": 44
        }
      ]
    },
    {
      "cell_type": "code",
      "source": [
        "sns.distplot(y_test,hist=False,color='r',label='actual value')\n",
        "sns.distplot(yhatslr,hist=False,color='b',label=\"predicted value\")\n"
      ],
      "metadata": {
        "colab": {
          "base_uri": "https://localhost:8080/",
          "height": 864
        },
        "id": "42UcEraye0Ae",
        "outputId": "f83ad09e-b197-40e1-ee2b-c085b4d2bc0a"
      },
      "execution_count": null,
      "outputs": [
        {
          "output_type": "stream",
          "name": "stderr",
          "text": [
            "<ipython-input-45-d8e6fb00ce28>:1: UserWarning: \n",
            "\n",
            "`distplot` is a deprecated function and will be removed in seaborn v0.14.0.\n",
            "\n",
            "Please adapt your code to use either `displot` (a figure-level function with\n",
            "similar flexibility) or `kdeplot` (an axes-level function for kernel density plots).\n",
            "\n",
            "For a guide to updating your code to use the new functions, please see\n",
            "https://gist.github.com/mwaskom/de44147ed2974457ad6372750bbe5751\n",
            "\n",
            "  sns.distplot(y_test,hist=False,color='r',label='actual value')\n",
            "<ipython-input-45-d8e6fb00ce28>:2: UserWarning: \n",
            "\n",
            "`distplot` is a deprecated function and will be removed in seaborn v0.14.0.\n",
            "\n",
            "Please adapt your code to use either `displot` (a figure-level function with\n",
            "similar flexibility) or `kdeplot` (an axes-level function for kernel density plots).\n",
            "\n",
            "For a guide to updating your code to use the new functions, please see\n",
            "https://gist.github.com/mwaskom/de44147ed2974457ad6372750bbe5751\n",
            "\n",
            "  sns.distplot(yhatslr,hist=False,color='b',label=\"predicted value\")\n"
          ]
        },
        {
          "output_type": "execute_result",
          "data": {
            "text/plain": [
              "<Axes: xlabel='price', ylabel='Density'>"
            ]
          },
          "metadata": {},
          "execution_count": 45
        },
        {
          "output_type": "display_data",
          "data": {
            "text/plain": [
              "<Figure size 640x480 with 1 Axes>"
            ],
            "image/png": "[encoded data removed]"
          },
          "metadata": {}
        }
      ]
    },
    {
      "cell_type": "code",
      "source": [
        "lrn=LinearRegression()\n",
        "score=cross_val_score(lrn,x_data[['horsepower']],y_data,cv=4)\n",
        "np.mean(score)"
      ],
      "metadata": {
        "colab": {
          "base_uri": "https://localhost:8080/"
        },
        "id": "90rcyCzeiDSg",
        "outputId": "51d517b4-0c6b-4596-c249-622b9174ab4f"
      },
      "execution_count": null,
      "outputs": [
        {
          "output_type": "execute_result",
          "data": {
            "text/plain": [
              "0.5216652079740023"
            ]
          },
          "metadata": {},
          "execution_count": 51
        }
      ]
    },
    {
      "cell_type": "code",
      "source": [
        "lrn1=LinearRegression()\n",
        "yhat3=cross_val_predict(lrn1,x_data[['horsepower']],y_data,cv=4)\n",
        "yhat3"
      ],
      "metadata": {
        "colab": {
          "base_uri": "https://localhost:8080/"
        },
        "id": "naKbccn-ket7",
        "outputId": "96a0bf5e-edc5-4831-81c2-ee093a88c18b"
      },
      "execution_count": null,
      "outputs": [
        {
          "output_type": "execute_result",
          "data": {
            "text/plain": [
              "array([14141.71633932, 20814.42630137, 12745.10262633, 14762.43354509,\n",
              "       13986.53703787, 13986.53703787, 13986.53703787, 18641.91608117,\n",
              "       12589.92332489, 12589.92332489, 15693.50935375, 15693.50935375,\n",
              "       15693.50935375, 25159.44674178, 25159.44674178, 25159.44674178,\n",
              "        4365.4203484 ,  7779.36498015,  7779.36498015,  7469.00637726,\n",
              "        7469.00637726, 12745.10262633,  7469.00637726,  7469.00637726,\n",
              "        7469.00637726, 12745.10262633, 10572.59240613, 19417.81258838,\n",
              "        5917.21336283,  8710.44078881,  6227.57196572,  8710.44078881,\n",
              "        8710.44078881,  8710.44078881,  8710.44078881, 10262.23380324,\n",
              "       10262.23380324, 10262.23380324, 10262.23380324, 12589.92332489,\n",
              "       12434.74402344,  9020.79939169, 10882.95100901, 24228.37093312,\n",
              "       24228.37093312, 37573.79085723,  7469.00637726,  7469.00637726,\n",
              "        7469.00637726,  7469.00637726,  7195.99495007, 12630.40879546,\n",
              "       12630.40879546, 12630.40879546, 18229.50184828,  9830.86226905,\n",
              "        9830.86226905,  9830.86226905,  9830.86226905,  6537.27812033,\n",
              "        9830.86226905, 15759.31373674,  7854.71177981, 16253.35135905,\n",
              "       16253.35135905, 16253.35135905, 16253.35135905, 21523.085997  ,\n",
              "       21523.085997  , 26298.78301265, 26298.78301265, 24816.67014572,\n",
              "        7195.99495007,  7195.99495007,  7195.99495007, 12795.08800289,\n",
              "       15100.596907  , 10489.57909879, 19876.29392264, 19876.29392264,\n",
              "       19876.29392264, 10489.57909879, 10489.57909879, 15100.596907  ,\n",
              "       15100.596907  ,  7360.67415751,  5055.1652534 ,  7360.67415751,\n",
              "        7360.67415751,  7360.67415751,  7360.67415751,  7360.67415751,\n",
              "        7360.67415751,  7360.67415751,  7360.67415751, 11971.69196571,\n",
              "       11971.69196571, 21029.04837469, 21029.04837469, 21029.04837469,\n",
              "       23550.98917142, 30710.79158521, 23550.98917142, 12274.30036971,\n",
              "       11916.31024902, 12274.30036971, 11916.31024902, 11916.31024902,\n",
              "       11916.31024902, 11916.31024902, 11916.31024902, 12274.30036971,\n",
              "       11916.31024902, 20329.07808522,  7083.44361972, 13169.27567144,\n",
              "        7083.44361972,  7083.44361972,  7083.44361972, 10663.34482661,\n",
              "       20866.06326626, 20508.07314557, 31963.75700762, 31963.75700762,\n",
              "       31963.75700762, 13567.14092933, 13567.14092933, 14601.23615419,\n",
              "       14601.23615419, 14601.23615419, 14601.23615419, 23550.98917142,\n",
              "       23550.98917142,  7262.43868006,  7978.41892144,  7978.41892144,\n",
              "        9589.37446454,  9589.37446454, 11737.31518868,  9589.37446454,\n",
              "       14780.23121454,  9589.37446454, 11737.31518868,  9589.37446454,\n",
              "       14780.23121454,  6009.47325765,  6009.47325765,  6009.47325765,\n",
              "        6009.47325765,  6009.47325765,  5663.9447572 ,  7165.26378244,\n",
              "        7165.26378244,  4537.95548827,  4537.95548827,  7165.26378244,\n",
              "        7165.26378244,  7165.26378244,  7165.26378244,  7165.26378244,\n",
              "       15047.18866495, 15047.18866495, 15797.84817757, 15797.84817757,\n",
              "       15797.84817757, 15797.84817757, 15797.84817757, 15797.84817757,\n",
              "       11293.89110185,  7728.25841691, 11293.89110185, 11293.89110185,\n",
              "       11293.89110185, 24242.76769454, 24242.76769454, 23304.44330376,\n",
              "       23304.44330376,  3787.29597565,  9980.23695477,  3787.29597565,\n",
              "        9980.23695477,  9980.23695477,  6789.93402613, 12795.21012709,\n",
              "       10918.56134554, 10918.56134554, 14671.85890864,  6789.93402613,\n",
              "       10543.23158923, 15422.51842126, 15422.51842126, 15422.51842126,\n",
              "       15422.51842126, 24430.43257269, 24430.43257269, 15422.51842126,\n",
              "       24055.10281638, 19175.81598436, 13921.19939602, 15422.51842126])"
            ]
          },
          "metadata": {},
          "execution_count": 53
        }
      ]
    },
    {
      "cell_type": "code",
      "source": [
        "pr6=PolynomialFeatures(degree=2)\n",
        "x_train_pr=pr6.fit_transform(x_train[['horsepower', 'curb-weight', 'engine-size', 'highway-mpg','normalized-losses','symboling']])\n",
        "x_test_pr=pr6.fit_transform(x_test[['horsepower', 'curb-weight', 'engine-size', 'highway-mpg','normalized-losses','symboling']])\n",
        "\n",
        "rigemodel=Ridge(alpha=1)\n",
        "rigemodel.fit(x_train_pr,y_train)\n",
        "yhat4=rigemodel.predict(x_train_pr)\n",
        "yhat4"
      ],
      "metadata": {
        "id": "izhS2AoMmmwG"
      },
      "execution_count": null,
      "outputs": []
    },
    {
      "cell_type": "code",
      "source": [
        "parameters=[{'alpha':[0.01,0.1,1,10,100,1000]}]\n",
        "RR=Ridge()\n",
        "grid1=GridSearchCV(RR,parameters,cv=4)\n",
        "grid1.fit(x_data[['horsepower', 'curb-weight', 'engine-size', 'highway-mpg']], y_data)\n",
        "grid1.best_estimator_\n",
        "scores=grid1.cv_results_\n",
        "scores['mean_test_score']"
      ],
      "metadata": {
        "colab": {
          "base_uri": "https://localhost:8080/"
        },
        "id": "ML4wq_3o8euQ",
        "outputId": "9f7f8b93-4bd4-4924-a2f1-ace9676be2da"
      },
      "execution_count": null,
      "outputs": [
        {
          "output_type": "execute_result",
          "data": {
            "text/plain": [
              "array([0.6644487 , 0.66444922, 0.66445443, 0.66450619, 0.66499177,\n",
              "       0.66793891])"
            ]
          },
          "metadata": {},
          "execution_count": 62
        }
      ]
    },
    {
      "cell_type": "code",
      "source": [],
      "metadata": {
        "colab": {
          "base_uri": "https://localhost:8080/",
          "height": 175
        },
        "id": "5zAQOvRH-7b_",
        "outputId": "fe64b0b7-c4bd-4dfc-bb03-1af3e1bd8ae7"
      },
      "execution_count": null,
      "outputs": [
        {
          "output_type": "error",
          "ename": "NameError",
          "evalue": "ignored",
          "traceback": [
            "\u001b[0;31m---------------------------------------------------------------------------\u001b[0m",
            "\u001b[0;31mNameError\u001b[0m                                 Traceback (most recent call last)",
            "\u001b[0;32m<ipython-input-63-019a7694bab4>\u001b[0m in \u001b[0;36m<cell line: 1>\u001b[0;34m()\u001b[0m\n\u001b[0;32m----> 1\u001b[0;31m \u001b[0mcsv\u001b[0m\u001b[0;34m.\u001b[0m\u001b[0mscores\u001b[0m\u001b[0;34m(\u001b[0m\u001b[0mx_test\u001b[0m\u001b[0;34m[\u001b[0m\u001b[0;34m[\u001b[0m\u001b[0;34m'horsepower'\u001b[0m\u001b[0;34m,\u001b[0m \u001b[0;34m'curb-weight'\u001b[0m\u001b[0;34m,\u001b[0m \u001b[0;34m'engine-size'\u001b[0m\u001b[0;34m,\u001b[0m \u001b[0;34m'highway-mpg'\u001b[0m\u001b[0;34m]\u001b[0m\u001b[0;34m]\u001b[0m\u001b[0;34m,\u001b[0m \u001b[0my_test\u001b[0m\u001b[0;34m)\u001b[0m\u001b[0;34m\u001b[0m\u001b[0;34m\u001b[0m\u001b[0m\n\u001b[0m",
            "\u001b[0;31mNameError\u001b[0m: name 'csv' is not defined"
          ]
        }
      ]
    },
    {
      "cell_type": "code",
      "source": [],
      "metadata": {
        "id": "Yf8rC095AHE2"
      },
      "execution_count": null,
      "outputs": []
    }
  ],
  "metadata": {
    "colab": {
      "provenance": [],
      "mount_file_id": "1W0hz3-pB-XzLcOqNou7l8qADNohOJWQP",
      "authorship_tag": "ABX9TyNSNfg8lRbMOfQIVzLrrXY8",
      "include_colab_link": true
    },
    "kernelspec": {
      "display_name": "Python 3",
      "name": "python3"
    },
    "language_info": {
      "name": "python"
    }
  },
  "nbformat": 4,
  "nbformat_minor": 0
}